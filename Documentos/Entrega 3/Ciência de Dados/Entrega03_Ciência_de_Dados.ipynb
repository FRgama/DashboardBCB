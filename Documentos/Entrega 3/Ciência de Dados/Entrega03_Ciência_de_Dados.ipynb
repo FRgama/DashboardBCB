{
  "nbformat": 4,
  "nbformat_minor": 0,
  "metadata": {
    "colab": {
      "provenance": []
    },
    "kernelspec": {
      "name": "python3",
      "display_name": "Python 3"
    },
    "language_info": {
      "name": "python"
    }
  },
  "cells": [
    {
      "cell_type": "markdown",
      "source": [
        "# ECONOVISION\n",
        "\n",
        "Neste projeto, desenvolvemos um dashboard que utiliza dados de indicadores socioeconômicos para criar gráficos e análises de regressão. O objetivo é explorar correlações e identificar padrões que possam auxiliar na compreensão desses dados de forma mais intuitiva e visual."
      ],
      "metadata": {
        "id": "nk3aMxmhBfzN"
      }
    },
    {
      "cell_type": "markdown",
      "source": [
        "# Coleta de indicadores\n",
        "De início precisamos coletar os dados dos indicadores, sendo eles fornecidos pela API do Banco Central do Brasil."
      ],
      "metadata": {
        "id": "2LD2ys-DExKe"
      }
    },
    {
      "cell_type": "code",
      "execution_count": null,
      "metadata": {
        "id": "bpaof_Qa6I7t"
      },
      "outputs": [],
      "source": [
        "import pandas as pd\n",
        "!pip install Python-bcb\n",
        "from bcb import sgs\n",
        "\n",
        "def carregar_dados():\n",
        "    def obter_dado(codigo, nome):\n",
        "        try:\n",
        "            df = sgs.get({nome: codigo}, start='2016-01-01')\n",
        "            df = df.reset_index()\n",
        "            df.columns = ['Data', nome]\n",
        "            df['Data'] = pd.to_datetime(df['Data'], dayfirst=True)\n",
        "            return df\n",
        "        except Exception as e:\n",
        "            print(f\"Erro ao carregar {nome}: {e}\")\n",
        "            return pd.DataFrame(columns=['Data', nome])\n",
        "\n",
        "    dfSelic = obter_dado(1178, 'Selic')\n",
        "    dfIpca = obter_dado(433, 'Ipca')\n",
        "    dfMediaDeflacionada = obter_dado(24381, 'Remuneração Média Deflacionada')\n",
        "    dfIgpm = obter_dado(189, 'Igpm')\n",
        "    dfInad = obter_dado(21082, 'Inadimplência')\n",
        "    dfInadFamilia = obter_dado(29038, 'Inadimplência Familiar')\n",
        "    dfCredTotal = obter_dado(20631, 'Crédito Total')\n",
        "    dfDolar = obter_dado(1, 'Dólar')\n",
        "\n",
        "    # Ajuste Selic para frequência mensal\n",
        "    if not dfSelic.empty:\n",
        "        dfSelic = dfSelic.set_index('Data').resample('MS').first().reset_index()\n",
        "\n",
        "    return dfSelic, dfIpca, dfMediaDeflacionada, dfIgpm, dfInad, dfInadFamilia, dfCredTotal, dfDolar\n"
      ]
    },
    {
      "cell_type": "markdown",
      "source": [
        "Neste código criamos uma função na qual devolve um vetor para cada indicador que buscamos. Sendo eles: Selic, Remuneração Média Deflacionada, Igpm, Ipca, Inadimplência, Crédito Total, Dólar."
      ],
      "metadata": {
        "id": "6uRBEAz1GUNM"
      }
    },
    {
      "cell_type": "markdown",
      "source": [
        "## Criação dos Gráficos\n",
        "\n",
        "Criação dos Gráficos\n",
        "Após a coleta dos dados dos indicadores, começamos a criação dos gráficos para a análise."
      ],
      "metadata": {
        "id": "vjxmpLKuH2IX"
      }
    },
    {
      "cell_type": "code",
      "source": [
        "!pip install streamlit\n",
        "import streamlit as st\n",
        "import plotly.express as px\n",
        "\n",
        "class Graficos:\n",
        "    def exibir_grafico_linha(self, df):\n",
        "        st.subheader('Gráfico de Linha')\n",
        "        if df.empty:\n",
        "            st.error(\"Não há dados para o gráfico de linha.\")\n",
        "            return\n",
        "        try:\n",
        "            fig = px.line(df, x='Data', y=df.columns[1:], title=\"Evolução dos Indicadores\", template='plotly_dark')\n",
        "            st.plotly_chart(fig, use_container_width=True)\n",
        "        except Exception as e:\n",
        "            st.error(f\"Erro no gráfico de linha: {e}\")\n",
        "\n",
        "    def exibir_grafico_dispersao(self, df):\n",
        "        st.subheader('Gráfico de Dispersão')\n",
        "        if df.empty:\n",
        "            st.error(\"Não há dados para o gráfico de dispersão.\")\n",
        "            return\n",
        "        try:\n",
        "            col1 = st.selectbox(\"Indicador X:\", df.columns[1:], key=\"disp1\")\n",
        "            col2 = st.selectbox(\"Indicador Y:\", df.columns[1:], key=\"disp2\")\n",
        "            fig = px.scatter(df, x=col1, y=col2, title=f\"Dispersão: {col1} vs {col2}\", template='plotly_dark')\n",
        "            st.plotly_chart(fig, use_container_width=True)\n",
        "        except Exception as e:\n",
        "            st.error(f\"Erro no gráfico de dispersão: {e}\")\n",
        "\n",
        "    def exibir_grafico_barras(self, df):\n",
        "        st.subheader('Gráfico de Barras')\n",
        "        if df.empty:\n",
        "            st.error(\"Não há dados para o gráfico de barras.\")\n",
        "            return\n",
        "        try:\n",
        "            col = st.selectbox(\"Indicador:\", df.columns[1:], key=\"bar\")\n",
        "            fig = px.bar(df, x='Data', y=col, title=f\"{col} ao longo do tempo\", template='plotly_dark')\n",
        "            st.plotly_chart(fig, use_container_width=True)\n",
        "        except Exception as e:\n",
        "            st.error(f\"Erro no gráfico de barras: {e}\")\n",
        "\n",
        "    def exibir_grafico_boxplot(self, df):\n",
        "        st.subheader('Gráfico de Boxplot')\n",
        "        if df.empty:\n",
        "            st.error(\"Não há dados para o gráfico de boxplot.\")\n",
        "            return\n",
        "        try:\n",
        "            col = st.selectbox(\"Indicador:\", df.columns[1:], key=\"box\")\n",
        "            fig = px.box(df, y=col, title=f\"Distribuição de {col}\", template='plotly_dark')\n",
        "            st.plotly_chart(fig, use_container_width=True)\n",
        "        except Exception as e:\n",
        "            st.error(f\"Erro no gráfico de boxplot: {e}\")\n",
        "\n",
        "    def exibir_matriz_correlacao(self, df):\n",
        "        st.subheader('Matriz de Correlação de Pearson')\n",
        "        if df.empty or df.shape[1] <= 2:\n",
        "            st.info(\"Selecione pelo menos dois indicadores para gerar a matriz de correlação.\")\n",
        "            return\n",
        "        try:\n",
        "            df_corr = df.drop(columns=['Data']).corr(method='pearson')\n",
        "            fig = px.imshow(\n",
        "                df_corr,\n",
        "                text_auto=True,\n",
        "                color_continuous_scale='RdBu_r',\n",
        "                title=\"Correlação de Pearson entre Indicadores\",\n",
        "                aspect='auto',\n",
        "                template='plotly_dark'\n",
        "            )\n",
        "            st.plotly_chart(fig, use_container_width=True)\n",
        "        except Exception as e:\n",
        "            st.error(f\"Erro ao gerar a matriz de correlação: {e}\")\n"
      ],
      "metadata": {
        "id": "ZgIVB-5iH1ZM"
      },
      "execution_count": null,
      "outputs": []
    },
    {
      "cell_type": "markdown",
      "source": [
        "Com esse código criamos os seguites gráficos:\n",
        "\n",
        "Gráfico de Linha:\n",
        "\n",
        "*   Mostra a evolução dos indicadores ao longo do tempo, agregando todos os indicadores selecionados para uma visão ampla.\n",
        "\n",
        "\n",
        "Gráfico de Dispersão:\n",
        "\n",
        "*   Compara a relação entre dois indicadores, sendo útil para identificar padrões e correlações diretas.\n",
        "\n",
        "\n",
        "Gráfico de Barras:\n",
        "* Similar ao gráfico de linha, mas focado em indicadores individuais, permitindo analisar a evolução de um indicador específico.\n",
        "\n",
        "Gráfico de Boxplot:\n",
        "* Mostra a dispersão do conjunto de dados, destacando mediana, quartis e possíveis outliers.\n",
        "\n",
        "Correlação de Pearson:\n",
        "* Mede a força e a direção da relação linear entre os indicadores, identificando as variáveis mais correlacionadas."
      ],
      "metadata": {
        "id": "2UsoXXpIMW27"
      }
    },
    {
      "cell_type": "markdown",
      "source": [
        "# Gráfico de Regressão\n",
        "\n",
        "Com o gráfico de regressão linear podemos fazer a predição de dados futuros."
      ],
      "metadata": {
        "id": "oKUKuMSNMpAN"
      }
    },
    {
      "cell_type": "code",
      "source": [
        "import streamlit as st\n",
        "import pandas as pd\n",
        "import plotly.express as px\n",
        "from sklearn.linear_model import LinearRegression\n",
        "from sklearn.model_selection import train_test_split\n",
        "from sklearn.preprocessing import StandardScaler\n",
        "from sklearn.metrics import r2_score, mean_absolute_error\n",
        "from statsmodels.stats.outliers_influence import variance_inflation_factor\n",
        "from sklearn.metrics import root_mean_squared_error\n",
        "\n",
        "class Regressao:\n",
        "    def exibir_regressao_linear(self, df):\n",
        "        st.subheader(\"Regressão Linear Múltipla\")\n",
        "\n",
        "        if df.shape[1] > 2:\n",
        "            target = st.selectbox(\"Selecione o indicador a ser previsto (variável dependente):\", df.columns[1:], key=\"reg_target\")\n",
        "            features = st.multiselect(\"Selecione as variáveis preditoras (independentes):\", [col for col in df.columns[1:] if col != target], key=\"reg_features\")\n",
        "\n",
        "            if features and st.button(\"Executar Regressão\"):\n",
        "                df_modelo = df.dropna(subset=[target] + features)\n",
        "                X = df_modelo[features]\n",
        "                y = df_modelo[target]\n",
        "\n",
        "                scaler = StandardScaler()\n",
        "                X_scaled = scaler.fit_transform(X)\n",
        "\n",
        "                st.markdown(\"### Verificação de Multicolinearidade (VIF)\")\n",
        "                vif_data = pd.DataFrame()\n",
        "                vif_data[\"Variável\"] = features\n",
        "                vif_data[\"VIF\"] = [variance_inflation_factor(X_scaled, i) for i in range(X_scaled.shape[1])]\n",
        "                st.dataframe(vif_data)\n",
        "\n",
        "                st.markdown(\"### Correlação entre Variáveis Preditivas\")\n",
        "                fig_corr = px.imshow(pd.DataFrame(X, columns=features).corr(), text_auto=True, color_continuous_scale='RdBu_r', zmin=-1, zmax=1)\n",
        "                st.plotly_chart(fig_corr, use_container_width=True)\n",
        "\n",
        "                X_train, X_test, y_train, y_test = train_test_split(X_scaled, y, test_size=0.2, random_state=42)\n",
        "                modelo = LinearRegression()\n",
        "                modelo.fit(X_train, y_train)\n",
        "                y_pred = modelo.predict(X_test)\n",
        "\n",
        "                r2 = r2_score(y_test, y_pred)\n",
        "                mae = mean_absolute_error(y_test, y_pred)\n",
        "                rmse = root_mean_squared_error(y_test, y_pred)\n",
        "\n",
        "                st.markdown(f\"### Avaliação do Modelo\")\n",
        "                st.write(f\"**R² (coeficiente de determinação):** {r2:.2f}\")\n",
        "                st.write(f\"**MAE (erro absoluto médio):** {mae:.2f}\")\n",
        "                st.write(f\"**RMSE (raiz do erro quadrático médio):** {rmse:.2f}\")\n",
        "\n",
        "                st.markdown(\"### Coeficientes do Modelo\")\n",
        "                for var, coef in zip(features, modelo.coef_):\n",
        "                    st.write(f\"- {var}: {coef:.4f}\")\n",
        "\n",
        "                futuro_data = pd.to_datetime(df['Data'].max()) + pd.DateOffset(years=1)\n",
        "                st.markdown(f\"### Previsão para o Ano de {futuro_data.year}\")\n",
        "\n",
        "                features_futuras = X.iloc[-1:].copy()\n",
        "                features_futuras['Data'] = futuro_data\n",
        "\n",
        "                X_futuro_scaled = scaler.transform(features_futuras[features])\n",
        "                y_futuro = modelo.predict(X_futuro_scaled)\n",
        "                st.write(f\"**Previsão do {target} para {futuro_data.year}:** {y_futuro[0]:.2f}\")\n",
        "\n",
        "                fig_pred = px.scatter(\n",
        "                    x=y_test,\n",
        "                    y=y_pred,\n",
        "                    labels={\"x\": \"Valores Reais\", \"y\": \"Valores Previsto\"},\n",
        "                    title=\"Valores Reais vs. Previsto\",\n",
        "                    template=\"plotly_dark\"\n",
        "                )\n",
        "                fig_pred.add_shape(\n",
        "                    type=\"line\",\n",
        "                    x0=min(y_test),\n",
        "                    y0=min(y_test),\n",
        "                    x1=max(y_test),\n",
        "                    y1=max(y_test),\n",
        "                    line=dict(color=\"red\", dash=\"dash\")\n",
        "                )\n",
        "                st.plotly_chart(fig_pred, use_container_width=True)\n"
      ],
      "metadata": {
        "id": "WoVHiCcIF8FS"
      },
      "execution_count": 5,
      "outputs": []
    },
    {
      "cell_type": "markdown",
      "source": [
        "Esse código define uma classe chamada Regressao e utiliza a API Sklearn para realizar a regressão linear com machine learning. Além disso é utilizado o  Streamlit para a interface, Pandas para manipulação de dados e Plotly para visualização."
      ],
      "metadata": {
        "id": "ws90IZqnN9Jp"
      }
    },
    {
      "cell_type": "markdown",
      "source": [
        "# Apresentação dos gráficos no Dashboard\n",
        "Agora com os dados coletados e com os gráficos criados, falta montar o Dashboard, na qual vai conter todas essas informações."
      ],
      "metadata": {
        "id": "JxWCVLIcOG6h"
      }
    },
    {
      "cell_type": "code",
      "source": [
        "import streamlit as st\n",
        "import pandas as pd\n",
        "\n",
        "SELIC = 'Selic'\n",
        "IPCA = 'IPCA'\n",
        "REMUNERACAO_DEFLACIONADA = 'Remuneração Média Deflacionada'\n",
        "IGPM = 'IGPM'\n",
        "INADIMPLENCIA = 'Inadimplência'\n",
        "INADIMPLENCIA_FAMILIA = 'Inadimplência Família'\n",
        "CREDITO_TOTAL = 'Crédito Total'\n",
        "DOLAR = 'Dólar'\n",
        "\n",
        "class AppStreamlit:\n",
        "    def __init__(self):\n",
        "        self.df_selic, self.df_ipca, self.df_salario, self.df_igpm, self.df_inad, self.df_inad_familia, self.df_cred_total, self.df_dolar = carregar_dados()\n",
        "        self.graficos = Graficos()\n",
        "        self.regressao = Regressao()\n",
        "\n",
        "    def exibir(self):\n",
        "        st.set_page_config(layout='wide')\n",
        "        st.title('Painel de Indicadores Econômicos')\n",
        "\n",
        "        st.sidebar.title(\"Seleção de Indicadores\")\n",
        "        indicadores = [SELIC, IPCA, REMUNERACAO_DEFLACIONADA, IGPM, INADIMPLENCIA, INADIMPLENCIA_FAMILIA, CREDITO_TOTAL, DOLAR]\n",
        "        selecionados = st.sidebar.multiselect(\"Escolha os Indicadores para comparação\", indicadores)\n",
        "\n",
        "        df_base = self.df_selic.copy()\n",
        "        df_base['Data'] = pd.to_datetime(df_base['Data'], errors='coerce')\n",
        "        data_minima = df_base['Data'].min().replace(day=1)\n",
        "        data_maxima = df_base['Data'].max().replace(day=1)\n",
        "\n",
        "        data_inicial = st.sidebar.date_input(\"A partir de:\", data_minima, min_value=data_minima, max_value=data_maxima)\n",
        "\n",
        "        if selecionados:\n",
        "            data_inicial = pd.to_datetime(data_inicial).replace(day=1)\n",
        "            df = self._preparar_comparacao(selecionados, data_inicial)\n",
        "\n",
        "            self.graficos.exibir_grafico_linha(df)\n",
        "            self.graficos.exibir_grafico_dispersao(df)\n",
        "            self.graficos.exibir_grafico_barras(df)\n",
        "            self.graficos.exibir_grafico_boxplot(df)\n",
        "            self.graficos.exibir_matriz_correlacao(df)\n",
        "\n",
        "            self.regressao.exibir_regressao_linear(df)\n",
        "\n",
        "    def _preparar_comparacao(self, selecionados, data_inicial):\n",
        "        df_base = self.df_selic.copy()\n",
        "        df_base['Data'] = pd.to_datetime(df_base['Data'], errors='coerce')\n",
        "        df_base = df_base.dropna(subset=['Data']).set_index('Data')\n",
        "        df_base = df_base[df_base.index >= data_inicial]\n",
        "\n",
        "        df_comparado = pd.DataFrame(index=df_base.index)\n",
        "\n",
        "        if SELIC in selecionados:\n",
        "            df_comparado['Selic'] = df_base['Selic']\n",
        "\n",
        "        def join_df(indicador, df, coluna):\n",
        "            if indicador in selecionados and not df.empty:\n",
        "                temp = df.copy()\n",
        "                temp['Data'] = pd.to_datetime(temp['Data'], errors='coerce')\n",
        "                temp.set_index('Data', inplace=True)\n",
        "                temp = temp[temp.index >= data_inicial]\n",
        "                return df_comparado.join(temp[[coluna]], how='outer')\n",
        "            return df_comparado\n",
        "\n",
        "        df_comparado = join_df(IPCA, self.df_ipca, 'Ipca')\n",
        "        df_comparado = join_df(REMUNERACAO_DEFLACIONADA, self.df_salario, 'Remuneração Média Deflacionada')\n",
        "        df_comparado = join_df(IGPM, self.df_igpm, 'Igpm')\n",
        "        df_comparado = join_df(INADIMPLENCIA, self.df_inad, 'Inadimplência')\n",
        "        df_comparado = join_df(INADIMPLENCIA_FAMILIA, self.df_inad_familia, 'Inadimplência Familiar')\n",
        "        df_comparado = join_df(CREDITO_TOTAL, self.df_cred_total, 'Crédito Total')\n",
        "        df_comparado = join_df(DOLAR, self.df_dolar, 'Dólar')\n",
        "\n",
        "        df_comparado = df_comparado.dropna(how='all').reset_index()\n",
        "        return df_comparado\n",
        "\n",
        "if __name__ == '__main__':\n",
        "    app = AppStreamlit()\n",
        "    app.exibir()\n"
      ],
      "metadata": {
        "id": "2DwACIb3Or5r"
      },
      "execution_count": null,
      "outputs": []
    },
    {
      "cell_type": "markdown",
      "source": [
        "Além da apresentação dos gráficos, foi criada uma seleção de indicadores, assim permitindo apenas a visualização dos indicadores da preferência do usuário. Também foi adicionada uma função que filtra os dados a partir do tempo escolhido."
      ],
      "metadata": {
        "id": "WezuaM35PLUQ"
      }
    },
    {
      "cell_type": "markdown",
      "source": [
        "# Páginas Complementares"
      ],
      "metadata": {
        "id": "JI_Gqc5ASNcz"
      }
    },
    {
      "cell_type": "code",
      "source": [
        "import streamlit as st\n",
        "import pandas as pd\n",
        "import plotly.express as px\n",
        "\n",
        "dfs = carregar_dados()\n",
        "\n",
        "df_merged = dfs[0]\n",
        "for df in dfs[1:]:\n",
        "    df_merged = pd.merge(df_merged, df, on=\"Data\", how=\"inner\")\n",
        "\n",
        "st.title(\"Resumo e Interpretações de Indicadores Econômicos\")\n",
        "\n",
        "def show_analysis(title, desc, x, y):\n",
        "    st.markdown(f\"### {title}\")\n",
        "    st.markdown(desc)\n",
        "    fig = px.scatter(df_merged, x=x, y=y, trendline=\"ols\", title=f\"{x} vs {y}\")\n",
        "    st.plotly_chart(fig)\n",
        "    st.markdown(\"---\")\n",
        "st.markdown(\"\"\"\n",
        "## 🧾 Descrição dos Indicadores Econômicos\n",
        "\n",
        "### 🏦 Selic (Taxa Básica de Juros)\n",
        "A Selic é a taxa básica de juros da economia brasileira, definida pelo Banco Central. Ela influencia diretamente todas as outras taxas de juros do país, como as cobradas em empréstimos, financiamentos e rendimentos de investimentos. Quando a Selic aumenta, o crédito tende a ficar mais caro, o que reduz o consumo e ajuda a conter a inflação.\n",
        "\n",
        "### 📈 IPCA (Índice de Preços ao Consumidor Amplo)\n",
        "É o índice oficial de inflação do Brasil, calculado pelo IBGE. Mede a variação de preços de um conjunto de produtos e serviços consumidos pelas famílias. É usado como referência para metas de inflação do governo.\n",
        "\n",
        "### 💼 Remuneração Média Deflacionada\n",
        "Refere-se ao rendimento médio real dos trabalhadores, já descontada a inflação. Um aumento neste indicador significa que o poder de compra da população está aumentando, o que pode impactar o consumo, endividamento e capacidade de pagamento.\n",
        "\n",
        "### 📊 IGP-M (Índice Geral de Preços – Mercado)\n",
        "É um índice de inflação calculado pela FGV e amplamente utilizado para reajustes de contratos (como aluguel). Ele reflete a variação de preços em diferentes estágios da economia, como atacado, construção civil e consumidor final.\n",
        "\n",
        "### ❗ Inadimplência\n",
        "Mede o percentual de operações de crédito em atraso no sistema financeiro. Altas taxas de inadimplência indicam dificuldades generalizadas da população ou empresas em manter os pagamentos em dia.\n",
        "\n",
        "### 👨‍👩‍👧‍👦 Inadimplência das Famílias\n",
        "É um recorte da inadimplência que considera exclusivamente pessoas físicas. Está relacionada com o endividamento familiar, desemprego, inflação e variações na renda.\n",
        "\n",
        "### 💳 Crédito Total\n",
        "Representa o total de crédito concedido pelo sistema financeiro, incluindo pessoas físicas e jurídicas. Esse indicador mostra a disponibilidade de capital na economia e o grau de atividade financeira.\n",
        "\n",
        "### 💵 Dólar\n",
        "Cotação da moeda americana em relação ao real. O dólar afeta importações, exportações, inflação, investimentos e expectativas do mercado. Seu comportamento está ligado a fatores internos (como política econômica) e externos (como juros dos EUA).\n",
        "\n",
        "---\n",
        "\"\"\")\n",
        "\n",
        "\n",
        "\n",
        "# Análises de interesse\n",
        "show_analysis(\n",
        "    \"📉 Selic vs IGP-M\",\n",
        "    \"**Correlação negativa forte (-0.54)**: Alta da Selic tende a conter inflação medida pelo IGP-M.\",\n",
        "    \"Selic\", \"Igpm\"\n",
        ")\n",
        "\n",
        "show_analysis(\n",
        "    \"💳 Selic vs Inadimplência\",\n",
        "    \"**Correlação positiva (0.64)**: Juros maiores tornam o crédito mais caro, aumentando inadimplência.\",\n",
        "    \"Selic\", \"Inadimplência\"\n",
        ")\n",
        "\n",
        "show_analysis(\n",
        "    \"🏦 Crédito Total vs Inadimplência Familiar\",\n",
        "    \"**Correlação fortíssima (0.90)**: Mais crédito disponível aumenta o risco de inadimplência nas famílias.\",\n",
        "    \"Crédito Total\", \"Inadimplência Familiar\"\n",
        ")\n",
        "\n",
        "show_analysis(\n",
        "    \"💼 Remuneração Média vs Crédito Total\",\n",
        "    \"**Correlação moderada (0.29)**: Melhora na renda pode estimular o aumento do crédito.\",\n",
        "    \"Remuneração Média Deflacionada\", \"Crédito Total\"\n",
        ")\n",
        "\n",
        "show_analysis(\n",
        "    \"💼 Remuneração Média vs Inadimplência Familiar\",\n",
        "    \"**Correlação fraca (0.15)**: Pode haver impacto, mas outros fatores como juros e desemprego pesam mais.\",\n",
        "    \"Remuneração Média Deflacionada\", \"Inadimplência Familiar\"\n",
        ")\n"
      ],
      "metadata": {
        "id": "xoUjBH8PSVs4"
      },
      "execution_count": null,
      "outputs": []
    },
    {
      "cell_type": "markdown",
      "source": [
        "Essa página tem o propósito de auxiliar o usuário, nela há a descrição de cada Indicador, além disso é apresentada as analises mais comuns e correlacionadas."
      ],
      "metadata": {
        "id": "Y0QIVNz7ScY0"
      }
    },
    {
      "cell_type": "code",
      "source": [
        "import streamlit as st\n",
        "\n",
        "st.title(\"Sobre o Projeto\")\n",
        "st.markdown(\"\"\"\n",
        "## Grupo de Análise Econômica\n",
        "\n",
        "\n",
        "\n",
        "### Integrantes:\n",
        "- **Beatriz de Souza Santos Rio Branco**\n",
        "- **Sátiro Gabriel de Souza Santos**\n",
        "- **Sabrinna Cristina Gomes Vicente**\n",
        "- **Rodrigo Correa da Gama**\n",
        "---\n",
        "\n",
        "Este painel foi desenvolvido como parte de um trabalho acadêmico para explorar indicadores econômicos usando Python e Streamlit.\n",
        "\"\"\")\n"
      ],
      "metadata": {
        "id": "gx_KJ53BUNLx"
      },
      "execution_count": null,
      "outputs": []
    },
    {
      "cell_type": "markdown",
      "source": [
        "Página de Créditos, na qual mostra o nome dos criadores do projeto."
      ],
      "metadata": {
        "id": "CS3oX7WUUP-D"
      }
    },
    {
      "cell_type": "markdown",
      "source": [
        "# Conclusão\n",
        "O dashboard da Econovision utiliza de Indicadores Socioeconômicos para criar gráficos que auxiliam na análise de dados, além de ser capaz de fazer previsões futuras a partir de machine learning.\n",
        "\n",
        "# O dashboard está hospedado em:\n",
        "#**https://dashboard-bcb.streamlit.app/**"
      ],
      "metadata": {
        "id": "iAEHKXdHSVXv"
      }
    }
  ]
}